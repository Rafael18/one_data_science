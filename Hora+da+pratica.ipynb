{
  "nbformat": 4,
  "nbformat_minor": 0,
  "metadata": {
    "colab": {
      "provenance": [],
      "toc_visible": true
    },
    "kernelspec": {
      "name": "python3",
      "display_name": "Python 3"
    },
    "language_info": {
      "name": "python"
    }
  },
  "cells": [
    {
      "cell_type": "markdown",
      "source": [
        "# Sobre o notebook\n",
        "\n",
        "A \"hora da prática\" é uma atividade do curso de Python para Data Science da Alura que contém diversos desafios envolvendo os aprendizados de cada aula.\n",
        "\n",
        "O notebook \"hora da pratica\" é um notebook construído com espaço para as células dos desafios propostos no curso, com ele você tem espaço para construir e executar suas soluções"
      ],
      "metadata": {
        "id": "_kwAaQ36gLQ1"
      }
    },
    {
      "cell_type": "markdown",
      "source": [
        "## Aula 1 - Introdução ao Python"
      ],
      "metadata": {
        "id": "Mc-KN0dA0Z83"
      }
    },
    {
      "cell_type": "markdown",
      "source": [
        "### Questão 1\n",
        "\n",
        "Imprima a frase `Escola de Dados da Alura!`"
      ],
      "metadata": {
        "id": "l5eLWf0W0ikn"
      }
    },
    {
      "cell_type": "code",
      "source": [
        "print(\"Escola de Dados da Alura!\")"
      ],
      "metadata": {
        "id": "5pllxJ0h0-yA",
        "colab": {
          "base_uri": "https://localhost:8080/"
        },
        "outputId": "aae553e9-3883-42db-e44c-8c34c426af33"
      },
      "execution_count": null,
      "outputs": [
        {
          "output_type": "stream",
          "name": "stdout",
          "text": [
            "Escola de Dados da Alura!\n"
          ]
        }
      ]
    },
    {
      "cell_type": "markdown",
      "source": [
        "### Questão 2\n",
        "Imprima na tela seu nome e seu sobrenome seguindo a estrutura abaixo:\n",
        "```\n",
        "Nome: [seu nome]\n",
        "Sobrenome: [seu sobrenome]\n",
        "```\n"
      ],
      "metadata": {
        "id": "tQdX90Ue03c7"
      }
    },
    {
      "cell_type": "code",
      "source": [
        "print(\"Nome: Rafael\")\n",
        "print(\"Sobrenome: Batista\")"
      ],
      "metadata": {
        "id": "RVw5iKn20_Ps",
        "colab": {
          "base_uri": "https://localhost:8080/"
        },
        "outputId": "37d11451-7ac6-4bc8-fa38-60d070528266"
      },
      "execution_count": null,
      "outputs": [
        {
          "output_type": "stream",
          "name": "stdout",
          "text": [
            "Nome: Rafael\n",
            "Sobrenome: Batista\n"
          ]
        }
      ]
    },
    {
      "cell_type": "markdown",
      "source": [
        "### Questão 3\n",
        "Imprima o seu primeiro nome letra a letra. Por exemplo, nome é Mirla, então eu obtenho a seguinte saída:\n",
        "```\n",
        "M\n",
        "I\n",
        "R\n",
        "L\n",
        "A\n",
        "```\n"
      ],
      "metadata": {
        "id": "gfg-aiip03vC"
      }
    },
    {
      "cell_type": "code",
      "source": [
        "print('R')\n",
        "print('A')\n",
        "print('F')\n",
        "print('A')\n",
        "print('E')\n",
        "print('L')"
      ],
      "metadata": {
        "id": "v5bkrgf60_qx",
        "colab": {
          "base_uri": "https://localhost:8080/"
        },
        "outputId": "9f404b15-9474-4c26-d378-0a49f29a33db"
      },
      "execution_count": null,
      "outputs": [
        {
          "output_type": "stream",
          "name": "stdout",
          "text": [
            "R\n",
            "A\n",
            "F\n",
            "A\n",
            "E\n",
            "L\n"
          ]
        }
      ]
    },
    {
      "cell_type": "markdown",
      "source": [
        "### Questão 4\n",
        "Imprima o dia do seu nascimento em formato `dia mês ano`. Os valores de dia e ano não podem estar entre aspas. O formato deve estar como no exemplo, supondo uma data de aniversário dia 28 de fevereiro de 2003:\n",
        "```\n",
        "28 fevereiro 2003\n",
        "```"
      ],
      "metadata": {
        "id": "oadrJbl704MM"
      }
    },
    {
      "cell_type": "code",
      "source": [
        "print(26, 'setembro', 1988)"
      ],
      "metadata": {
        "id": "cx0KSsrq1ALD",
        "colab": {
          "base_uri": "https://localhost:8080/"
        },
        "outputId": "219ec591-282b-46dd-9b9d-9988ab6dd3a6"
      },
      "execution_count": null,
      "outputs": [
        {
          "output_type": "stream",
          "name": "stdout",
          "text": [
            "26 setembro 1988\n"
          ]
        }
      ]
    },
    {
      "cell_type": "markdown",
      "source": [
        "### Questão 5\n",
        "Imprima em um único print o atual ano que você está fazendo esse curso, o valor do ano deve ser um dado numérico. A saída do print deve ser a seguinte:\n",
        "```\n",
        "Ano atual: [ano]\n",
        "```\n"
      ],
      "metadata": {
        "id": "3RgyMaan04TD"
      }
    },
    {
      "cell_type": "code",
      "execution_count": null,
      "metadata": {
        "id": "UN77EfQ2d36Y",
        "colab": {
          "base_uri": "https://localhost:8080/"
        },
        "outputId": "2cca00bc-8e7b-4028-9ba0-765d5ace3a24"
      },
      "outputs": [
        {
          "output_type": "stream",
          "name": "stdout",
          "text": [
            "Ano atual:  2025\n"
          ]
        }
      ],
      "source": [
        "print('Ano atual: ',2025)"
      ]
    },
    {
      "cell_type": "markdown",
      "source": [
        "## Aula 2 - Manipulando dados no Python"
      ],
      "metadata": {
        "id": "D9e3FqhO1S3X"
      }
    },
    {
      "cell_type": "markdown",
      "source": [
        "### Coleta e amostragem de dados"
      ],
      "metadata": {
        "id": "n6o7C1Ze2cRe"
      }
    },
    {
      "cell_type": "markdown",
      "source": [
        "#### Questão 1\n",
        "Crie um programa que solicite à pessoa usuária digitar seu nome, e imprima “Olá, [nome]!”."
      ],
      "metadata": {
        "id": "sRneWag9PV5Q"
      }
    },
    {
      "cell_type": "code",
      "source": [
        "nome = input(\"Digite seu nome: \")\n",
        "print(\"Olá,\", nome)"
      ],
      "metadata": {
        "id": "dbX1fKqy2HnE",
        "colab": {
          "base_uri": "https://localhost:8080/"
        },
        "outputId": "01268a01-2518-4f7e-b322-f11074e5ef89"
      },
      "execution_count": null,
      "outputs": [
        {
          "output_type": "stream",
          "name": "stdout",
          "text": [
            "Digite seu nome: Rafaeç\n",
            "Olá, Rafaeç\n"
          ]
        }
      ]
    },
    {
      "cell_type": "markdown",
      "source": [
        "#### Questão 2\n",
        "Crie um programa que solicite à pessoa usuária digitar seu nome e idade, e imprima “Olá, [nome], você tem [idade] anos.”."
      ],
      "metadata": {
        "id": "BJ1SznEp70d5"
      }
    },
    {
      "cell_type": "code",
      "source": [
        "nome = input(\"Digite seu nome: \")\n",
        "idade = input(\"Digite sua idade: \")\n",
        "print(\"Olá,\", nome, \"você tem\", idade, \"anos.\")"
      ],
      "metadata": {
        "id": "jKz-0Sq8PFkp",
        "colab": {
          "base_uri": "https://localhost:8080/"
        },
        "outputId": "8f6f8d1e-bfa8-49b1-cc73-8c82bf61909b"
      },
      "execution_count": null,
      "outputs": [
        {
          "output_type": "stream",
          "name": "stdout",
          "text": [
            "Digite seu nome: Rafael\n",
            "Digite sua idade: 37\n",
            "Olá, Rafael você tem 37 anos.\n"
          ]
        }
      ]
    },
    {
      "cell_type": "markdown",
      "source": [
        "#### Questão 3\n",
        "Crie um programa que solicite à pessoa usuária digitar seu nome, idade e altura em metros, e imprima “Olá, [nome], você tem [idade] anos e mede [altura] metros!”."
      ],
      "metadata": {
        "id": "2T0jNYZt70aa"
      }
    },
    {
      "cell_type": "code",
      "source": [
        "nome = input(\"Digite seu nome: \")\n",
        "idade = input(\"Digite sua idade: \")\n",
        "altura = input(\"Digite sua altura: \")\n",
        "print(\"Olá,\", nome, \"você tem\", idade, \"anos e mede\", altura, \"metros!\")"
      ],
      "metadata": {
        "id": "pI4kHNzTPIXh",
        "colab": {
          "base_uri": "https://localhost:8080/"
        },
        "outputId": "4b84f9f5-a7fe-4b72-9c11-eccdd64a391e"
      },
      "execution_count": null,
      "outputs": [
        {
          "output_type": "stream",
          "name": "stdout",
          "text": [
            "Digite seu nome: Rafael\n",
            "Digite sua idade: 37\n",
            "Digite sua altura: 1.80\n",
            "Olá, Rafael você tem 37 anos e mede 1.80 metros!\n"
          ]
        }
      ]
    },
    {
      "cell_type": "markdown",
      "source": [
        "### Calculadora com operadores"
      ],
      "metadata": {
        "id": "mEBFwKkC70KP"
      }
    },
    {
      "cell_type": "markdown",
      "source": [
        "#### Questão 1\n",
        "\n",
        "Crie um programa que solicite dois valores numéricos à pessoa usuária e imprima a soma dos dois valores."
      ],
      "metadata": {
        "id": "H-IV1oAPPSqK"
      }
    },
    {
      "cell_type": "code",
      "source": [
        "numeroUm = input(\"Digite o primeiro número: \")\n",
        "numeroDois = input(\"Digite o segundo número: \")\n",
        "print(int(numeroUm) + int(numeroDois))"
      ],
      "metadata": {
        "id": "Zb0W84sy8rnp",
        "colab": {
          "base_uri": "https://localhost:8080/"
        },
        "outputId": "d0421518-a794-4ed4-dddf-c120b2f9bd48"
      },
      "execution_count": null,
      "outputs": [
        {
          "output_type": "stream",
          "name": "stdout",
          "text": [
            "Digite o primeiro número: 2\n",
            "Digite o segundo número: 5\n",
            "7\n"
          ]
        }
      ]
    },
    {
      "cell_type": "markdown",
      "source": [
        "#### Questão 2\n",
        "Crie um programa que solicite três valores numéricos à pessoa usuária e imprima a soma dos três valores."
      ],
      "metadata": {
        "id": "LUoi2MOu70Em"
      }
    },
    {
      "cell_type": "code",
      "source": [
        "numeroUm = input(\"Digite o primeiro número: \")\n",
        "numeroDois = input(\"Digite o segundo número: \")\n",
        "numeroTres = input(\"Digite o terceiro número: \")\n",
        "print(int(numeroUm) + int(numeroDois) + int(numeroTres))"
      ],
      "metadata": {
        "id": "4FYjWyBS8rDm",
        "colab": {
          "base_uri": "https://localhost:8080/"
        },
        "outputId": "f598daed-dfa1-43a2-b146-f38c0e1d0313"
      },
      "execution_count": null,
      "outputs": [
        {
          "output_type": "stream",
          "name": "stdout",
          "text": [
            "Digite o primeiro número: 10\n",
            "Digite o segundo número: 10\n",
            "Digite o terceiro número: 10\n",
            "30\n"
          ]
        }
      ]
    },
    {
      "cell_type": "markdown",
      "source": [
        "#### Questão 3\n",
        "Crie um programa que solicite dois valores numéricos à pessoa usuária e imprima a subtração do primeiro pelo o segundo valor."
      ],
      "metadata": {
        "id": "lezGctF07z8i"
      }
    },
    {
      "cell_type": "code",
      "source": [
        "numeroUm = int(input(\"Digite o primeiro número: \"))\n",
        "numeroDois = int(input(\"Digite o segundo número: \"))\n",
        "print(numeroUm - numeroDois)"
      ],
      "metadata": {
        "id": "k0GE1z4w8p3J",
        "colab": {
          "base_uri": "https://localhost:8080/"
        },
        "outputId": "664f9907-0d67-4bc5-9f19-4538aabc9d11"
      },
      "execution_count": null,
      "outputs": [
        {
          "output_type": "stream",
          "name": "stdout",
          "text": [
            "Digite o primeiro número: 10\n",
            "Digite o segundo número: 5\n",
            "5\n"
          ]
        }
      ]
    },
    {
      "cell_type": "markdown",
      "source": [
        "#### Questão 4\n",
        "\n",
        "Crie um programa que solicite dois valores numéricos à pessoa usuária e imprima a multiplicação dos dois valores.\n"
      ],
      "metadata": {
        "id": "wwMP-dPU7zxW"
      }
    },
    {
      "cell_type": "code",
      "source": [
        "numeroUm = int(input(\"Digite o primeiro número: \"))\n",
        "numeroDois = int(input(\"Digite o segundo número: \"))\n",
        "print(numeroUm * numeroDois)"
      ],
      "metadata": {
        "id": "GzFCVHfp8peZ",
        "colab": {
          "base_uri": "https://localhost:8080/"
        },
        "outputId": "b1a55e07-0187-4511-dfcf-51e0230cbe46"
      },
      "execution_count": null,
      "outputs": [
        {
          "output_type": "stream",
          "name": "stdout",
          "text": [
            "Digite o primeiro número: 10\n",
            "Digite o segundo número: 10\n",
            "100\n"
          ]
        }
      ]
    },
    {
      "cell_type": "markdown",
      "source": [
        "#### Questão 5\n",
        "\n",
        "Crie um programa que solicite dois valores numéricos, um numerador e um denominador, e realize a divisão entre os dois valores. Deixe claro que o valor do denominador não pode ser `0`.\n"
      ],
      "metadata": {
        "id": "9kxyHxUo7zRD"
      }
    },
    {
      "cell_type": "code",
      "source": [
        "numertoUm = int(input(\"Digite o numerador: \"))\n",
        "numertoDois = int(input(\"Digite o denominador: \"))\n",
        "print(numertoUm / numertoDois)"
      ],
      "metadata": {
        "id": "ytJ8l5KH8ozc",
        "colab": {
          "base_uri": "https://localhost:8080/"
        },
        "outputId": "2e9563df-9c3a-4b65-f584-3cfbac30b1f8"
      },
      "execution_count": null,
      "outputs": [
        {
          "output_type": "stream",
          "name": "stdout",
          "text": [
            "Digite o numerador: 10\n",
            "Digite o denominador: 2\n",
            "5.0\n"
          ]
        }
      ]
    },
    {
      "cell_type": "markdown",
      "source": [
        "#### Questão 6\n",
        "\n",
        "Crie um programa que solicite dois valores numéricos, um operador e uma potência, e realize a exponenciação entre esses dois valores.\n"
      ],
      "metadata": {
        "id": "zkUSBTQq8Hxt"
      }
    },
    {
      "cell_type": "code",
      "source": [
        "numeroUm = int(input(\"Digite o primeiro número: \"))\n",
        "numeroDois = int(input(\"Digite o segundo número: \"))\n",
        "print(numeroUm ** numeroDois)"
      ],
      "metadata": {
        "id": "RPj36jq08oZp",
        "colab": {
          "base_uri": "https://localhost:8080/"
        },
        "outputId": "6e61c494-95ec-4266-8cc7-2598aaa78c9c"
      },
      "execution_count": null,
      "outputs": [
        {
          "output_type": "stream",
          "name": "stdout",
          "text": [
            "Digite o primeiro número: 5\n",
            "Digite o segundo número: 2\n",
            "25\n"
          ]
        }
      ]
    },
    {
      "cell_type": "markdown",
      "source": [
        "#### Questão 7\n",
        "Crie um programa que solicite dois valores numéricos, um numerador e um denominador e realize a divisão inteira entre os dois valores. Deixe claro que o valor do denominador não pode ser `0`."
      ],
      "metadata": {
        "id": "yiunIusZ8Huj"
      }
    },
    {
      "cell_type": "code",
      "source": [
        "numeroUm = int(input(\"Digite o numerador: \"))\n",
        "numeroDois = int(input(\"Digite o denominador: \"))\n",
        "print(numeroUm // numeroDois)"
      ],
      "metadata": {
        "id": "UHK8xITf8oCg",
        "colab": {
          "base_uri": "https://localhost:8080/"
        },
        "outputId": "155db7f4-ea67-4b56-c06b-c6220214bce3"
      },
      "execution_count": null,
      "outputs": [
        {
          "output_type": "stream",
          "name": "stdout",
          "text": [
            "Digite o numerador: 10\n",
            "Digite o denominador: 2\n",
            "5\n"
          ]
        }
      ]
    },
    {
      "cell_type": "markdown",
      "source": [
        "#### Questão 8\n",
        "\n",
        "Crie um programa que solicite dois valores numéricos, um numerador e um denominador, e retorne o resto da divisão entre os dois valores. Deixe claro que o valor do denominador não pode ser `0`."
      ],
      "metadata": {
        "id": "z_D_JiLX8Hra"
      }
    },
    {
      "cell_type": "code",
      "source": [
        "numeroUm = int(input(\"Digite o numerador: \"))\n",
        "numeroDois = int(input(\"Digite o denominador: \"))\n",
        "print(numeroUm % numeroDois)"
      ],
      "metadata": {
        "id": "EWGJeukO8nqx",
        "colab": {
          "base_uri": "https://localhost:8080/"
        },
        "outputId": "9ed4689d-fa3c-4507-8e01-cf5839c15fc0"
      },
      "execution_count": null,
      "outputs": [
        {
          "output_type": "stream",
          "name": "stdout",
          "text": [
            "Digite o numerador: 10\n",
            "Digite o denominador: 10\n",
            "0\n"
          ]
        }
      ]
    },
    {
      "cell_type": "markdown",
      "source": [
        "#### Questão 9\n",
        "\n",
        "Crie um código que solicita 3 notas de um estudante e imprima a média das notas."
      ],
      "metadata": {
        "id": "RDRajNkU8N8N"
      }
    },
    {
      "cell_type": "code",
      "source": [
        "notaUm = int(input(\"Digite a primeira nota: \"))\n",
        "notaDois = int(input(\"Digite a segunda nota: \"))\n",
        "notaTres = int(input(\"Digite a terceira nota: \"))\n",
        "print((notaUm + notaDois + notaTres) / 3)"
      ],
      "metadata": {
        "id": "H6F4Ojzt8nSR",
        "colab": {
          "base_uri": "https://localhost:8080/"
        },
        "outputId": "bbeb2dc8-14c2-4aff-8c58-a96b33cfcd39"
      },
      "execution_count": null,
      "outputs": [
        {
          "output_type": "stream",
          "name": "stdout",
          "text": [
            "Digite a primeira nota: 10\n",
            "Digite a segunda nota: 5\n",
            "Digite a terceira nota: 10\n",
            "8.333333333333334\n"
          ]
        }
      ]
    },
    {
      "cell_type": "markdown",
      "source": [
        "#### Questão 10\n",
        "\n",
        "Crie um código que calcule e imprima a média ponderada dos números 5, 12, 20 e 15 com pesos respectivamente iguais a 1, 2, 3 e 4."
      ],
      "metadata": {
        "id": "d7fjkne58N21"
      }
    },
    {
      "cell_type": "code",
      "source": [
        "numeroUm = 5\n",
        "numeroDois = 12\n",
        "numeroTres = 20\n",
        "numeroQuatro = 15\n",
        "\n",
        "pesoUm = 1\n",
        "pesoDois = 2\n",
        "pesoTres = 3\n",
        "pesoQuatro = 4\n",
        "\n",
        "print((numeroUm * pesoUm + numeroDois * pesoDois + numeroTres * pesoTres + numeroQuatro * pesoQuatro) / (pesoUm + pesoDois + pesoTres + pesoQuatro))"
      ],
      "metadata": {
        "id": "fwjoHlV48mkv",
        "colab": {
          "base_uri": "https://localhost:8080/"
        },
        "outputId": "f9cfe5a3-dd69-488f-e5dc-a50d5afe0db5"
      },
      "execution_count": null,
      "outputs": [
        {
          "output_type": "stream",
          "name": "stdout",
          "text": [
            "14.9\n"
          ]
        }
      ]
    },
    {
      "cell_type": "markdown",
      "source": [
        "### Editando textos"
      ],
      "metadata": {
        "id": "GNmbX1OU8N0V"
      }
    },
    {
      "cell_type": "markdown",
      "source": [],
      "metadata": {
        "id": "d8B_QHsBfsio"
      }
    },
    {
      "cell_type": "markdown",
      "source": [
        "#### Questão 1\n",
        "\n",
        "Crie uma variável chamada “`frase`” e atribua a ela uma string de sua escolha. Em seguida, imprima a frase na tela."
      ],
      "metadata": {
        "id": "6wZ85mCsRCV0"
      }
    },
    {
      "cell_type": "code",
      "source": [
        "frase = 'Olá, mundo!'\n",
        "print(frase)"
      ],
      "metadata": {
        "id": "eRqr_gh-8mFy",
        "colab": {
          "base_uri": "https://localhost:8080/"
        },
        "outputId": "cbda1760-d450-49d1-e9e1-a9322fe5037b"
      },
      "execution_count": null,
      "outputs": [
        {
          "output_type": "stream",
          "name": "stdout",
          "text": [
            "Olá, mundo!\n"
          ]
        }
      ]
    },
    {
      "cell_type": "markdown",
      "source": [
        "#### Questão 2\n",
        "Crie um código que solicite uma frase e depois imprima a frase na tela."
      ],
      "metadata": {
        "id": "Aac17z-18Nwv"
      }
    },
    {
      "cell_type": "code",
      "source": [
        "frase = input(\"Digite uma frase: \")\n",
        "print(frase)"
      ],
      "metadata": {
        "id": "8zfE2hh98lb0",
        "colab": {
          "base_uri": "https://localhost:8080/"
        },
        "outputId": "2495bf68-72ba-46b8-86e4-2d500e65d244"
      },
      "execution_count": null,
      "outputs": [
        {
          "output_type": "stream",
          "name": "stdout",
          "text": [
            "Digite uma frase: HUAHUAHUHA\n",
            "HUAHUAHUHA\n"
          ]
        }
      ]
    },
    {
      "cell_type": "markdown",
      "source": [
        "#### Questão 3\n",
        "\n",
        "Crie um código que solicite uma frase à pessoa usuária e imprima a mesma frase digitada mas com todas as letras maiúsculas."
      ],
      "metadata": {
        "id": "DXVzqpN58Ntr"
      }
    },
    {
      "cell_type": "code",
      "source": [
        "frase = input(\"Digite uma frase: \")\n",
        "print(frase.upper())"
      ],
      "metadata": {
        "id": "d0VzoYP68k-I",
        "colab": {
          "base_uri": "https://localhost:8080/"
        },
        "outputId": "6e141b05-3970-4d0f-cb68-b0f2d4ff2564"
      },
      "execution_count": null,
      "outputs": [
        {
          "output_type": "stream",
          "name": "stdout",
          "text": [
            "Digite uma frase: teste\n",
            "TESTE\n"
          ]
        }
      ]
    },
    {
      "cell_type": "markdown",
      "source": [
        "#### Questão 4\n",
        "\n",
        "Crie um código que solicite uma frase à pessoa usuária e imprima a mesma frase digitada mas com todas as letras minúsculas."
      ],
      "metadata": {
        "id": "I12VeNPK8Nqb"
      }
    },
    {
      "cell_type": "code",
      "source": [
        "frase = input(\"Digite uma frase: \")\n",
        "print(frase.lower())"
      ],
      "metadata": {
        "id": "KD8rNy2K8kox",
        "colab": {
          "base_uri": "https://localhost:8080/"
        },
        "outputId": "2fe444b9-4116-4be5-e867-eb3fdd2345d7"
      },
      "execution_count": null,
      "outputs": [
        {
          "output_type": "stream",
          "name": "stdout",
          "text": [
            "Digite uma frase: TESTE\n",
            "teste\n"
          ]
        }
      ]
    },
    {
      "cell_type": "markdown",
      "source": [
        "#### Questão 5\n",
        "\n",
        "Crie uma variável chamada “`frase`” e atribua a ela uma string de sua escolha. Em seguida, imprima a frase sem espaços em branco no início e no fim."
      ],
      "metadata": {
        "id": "cRqngSE48Nog"
      }
    },
    {
      "cell_type": "code",
      "source": [
        "frase = ' Olá, mundo! '\n",
        "print(frase.strip())"
      ],
      "metadata": {
        "id": "aSCpdF-o8kBs",
        "colab": {
          "base_uri": "https://localhost:8080/"
        },
        "outputId": "9d4886c7-e27b-4a5e-9d62-e4980a248b7f"
      },
      "execution_count": null,
      "outputs": [
        {
          "output_type": "stream",
          "name": "stdout",
          "text": [
            "Olá, mundo!\n"
          ]
        }
      ]
    },
    {
      "cell_type": "markdown",
      "source": [
        "#### Questão 6\n",
        "\n",
        "Crie um código que solicite uma frase à pessoa usuária e imprima a mesma frase sem espaços em branco no início e no fim."
      ],
      "metadata": {
        "id": "murIazpQ8Nkv"
      }
    },
    {
      "cell_type": "code",
      "source": [
        "frase = input(\"Digite uma frase: \")\n",
        "print(frase.strip().lower())"
      ],
      "metadata": {
        "id": "tHunjwuG8jNq",
        "colab": {
          "base_uri": "https://localhost:8080/"
        },
        "outputId": "ccf5ad9a-ac83-4713-b174-27448d2249f0"
      },
      "execution_count": null,
      "outputs": [
        {
          "output_type": "stream",
          "name": "stdout",
          "text": [
            "Digite uma frase:   TESTE   \n",
            "teste\n"
          ]
        }
      ]
    },
    {
      "cell_type": "markdown",
      "source": [
        "#### Questão 7\n",
        "\n",
        "\n",
        "Crie um código que solicite uma frase à pessoa usuária e imprima a mesma frase sem espaços em branco no início e no fim e em letras minúsculas."
      ],
      "metadata": {
        "id": "eRxc2OeX8Nh2"
      }
    },
    {
      "cell_type": "code",
      "source": [
        "frase = input(\"Digite uma frase: \")\n",
        "print(frase.strip().upper())"
      ],
      "metadata": {
        "id": "DYm0_UwS8ih6",
        "colab": {
          "base_uri": "https://localhost:8080/"
        },
        "outputId": "3f1ca03f-20db-49a2-fbf7-62d78472914f"
      },
      "execution_count": null,
      "outputs": [
        {
          "output_type": "stream",
          "name": "stdout",
          "text": [
            "Digite uma frase: teste    \n",
            "TESTE\n"
          ]
        }
      ]
    },
    {
      "cell_type": "markdown",
      "source": [
        "#### Questão 8\n",
        "\n",
        "Crie um código que solicite uma frase à pessoa usuária e imprima a mesma frase com todas as vogais “`e`” trocadas pela letra “`f`”."
      ],
      "metadata": {
        "id": "UKATLavs8NfI"
      }
    },
    {
      "cell_type": "code",
      "source": [
        "frase = input(\"Digite uma frase: \")\n",
        "print(frase.replace('e', 'f'))"
      ],
      "metadata": {
        "id": "k64C5G5S8iLO",
        "colab": {
          "base_uri": "https://localhost:8080/"
        },
        "outputId": "b1cd4ecf-e685-480c-ab5f-ca655df74d4c"
      },
      "execution_count": null,
      "outputs": [
        {
          "output_type": "stream",
          "name": "stdout",
          "text": [
            "Digite uma frase: rafael\n",
            "rafafl\n"
          ]
        }
      ]
    },
    {
      "cell_type": "markdown",
      "source": [
        "#### Questão 9\n",
        "\n",
        "\n",
        "Crie um código que solicite uma frase à pessoa usuária e imprima a mesma frase com todas as vogais “`a`” trocadas pela caractere  “`@`”."
      ],
      "metadata": {
        "id": "n_1SPchw8NdG"
      }
    },
    {
      "cell_type": "code",
      "source": [
        "frase = input(\"Digite uma frase: \")\n",
        "print(frase.replace('a', '@'))"
      ],
      "metadata": {
        "id": "msaDNm_p8h0D",
        "colab": {
          "base_uri": "https://localhost:8080/"
        },
        "outputId": "eeca6684-afb1-4ad8-f73d-befae21fbc93"
      },
      "execution_count": null,
      "outputs": [
        {
          "output_type": "stream",
          "name": "stdout",
          "text": [
            "Digite uma frase: rafael\n",
            "r@f@el\n"
          ]
        }
      ]
    },
    {
      "cell_type": "markdown",
      "source": [
        "#### Questão 10\n",
        "\n",
        "\n",
        "Crie um código que solicite uma frase à pessoa usuária e imprima a mesma frase com todas as consoantes “`s`” trocadas pelo caractere  “`$`”."
      ],
      "metadata": {
        "id": "H3sTTjqI8Naa"
      }
    },
    {
      "cell_type": "code",
      "source": [
        "frase = input(\"Digite uma frase: \")\n",
        "print(frase.replace('s', '$'))"
      ],
      "metadata": {
        "id": "RPBIsWT68e-1",
        "colab": {
          "base_uri": "https://localhost:8080/"
        },
        "outputId": "1e4a9153-a4a7-475a-a143-e515ed4a1b85"
      },
      "execution_count": null,
      "outputs": [
        {
          "output_type": "stream",
          "name": "stdout",
          "text": [
            "Digite uma frase: meu coração está muito alegre para estudar python\n",
            "meu coração e$tá muito alegre para e$tudar python\n"
          ]
        }
      ]
    },
    {
      "cell_type": "markdown",
      "source": [
        "## Aula 3 - Estruturas condicionais"
      ],
      "metadata": {
        "id": "XGePe4GD2I59"
      }
    },
    {
      "cell_type": "markdown",
      "source": [
        "### Aquecendo na programação"
      ],
      "metadata": {
        "id": "Pr9HTW0UHCdD"
      }
    },
    {
      "cell_type": "markdown",
      "source": [
        "#### Questão 1\n",
        "Escreva um programa que peça à pessoa usuária para fornecer dois números e exibir o número maior."
      ],
      "metadata": {
        "id": "xBZHqhVg80Fy"
      }
    },
    {
      "cell_type": "code",
      "source": [
        "numeroUm = int(input(\"Digite o primeiro número: \"))\n",
        "numeroDois = int(input(\"Digite o segundo número: \"))\n",
        "if numeroUm > numeroDois:\n",
        "  print(f'O número maior é: {numeroUm}')\n",
        "else:\n",
        "  print(f'O número maior é: {numeroDois}')"
      ],
      "metadata": {
        "id": "GJlGnzjc-xyF",
        "colab": {
          "base_uri": "https://localhost:8080/"
        },
        "outputId": "d6f839d8-7926-4827-e4fa-537c11b14f69"
      },
      "execution_count": null,
      "outputs": [
        {
          "output_type": "stream",
          "name": "stdout",
          "text": [
            "Digite o primeiro número: 9\n",
            "Digite o segundo número: 2\n",
            "O número maior é: 9\n"
          ]
        }
      ]
    },
    {
      "cell_type": "markdown",
      "source": [
        "#### Questão 2\n",
        "Escreva um programa que solicite o percentual de crescimento de produção de uma empresa e informe se houve um crescimento (porcentagem positiva) ou decrescimento (porcentagem negativa)."
      ],
      "metadata": {
        "id": "H4sgN7dyHNJF"
      }
    },
    {
      "cell_type": "code",
      "source": [
        "percentual = int(input(\"Digite o percentual de crescimento de produção: \"))\n",
        "if percentual > 0:\n",
        "  print(\"Houve um crescimento de\", percentual, \"%\")\n",
        "else:\n",
        "  print(\"Houve um decrescimento de\", percentual, \"%\")"
      ],
      "metadata": {
        "id": "-2_Ry5XJ-yZW",
        "colab": {
          "base_uri": "https://localhost:8080/"
        },
        "outputId": "b004c11e-b3cd-44bd-d3ae-fd2de72f2e91"
      },
      "execution_count": null,
      "outputs": [
        {
          "output_type": "stream",
          "name": "stdout",
          "text": [
            "Digite o percentual de crescimento de produção: 10\n",
            "Houve um crescimento de 10 %\n"
          ]
        }
      ]
    },
    {
      "cell_type": "markdown",
      "source": [
        "#### Questão 3\n",
        "Escreva um programa que determine se uma letra fornecida pela pessoa usuária é uma vogal ou consoante."
      ],
      "metadata": {
        "id": "a_mzNOBDHNny"
      }
    },
    {
      "cell_type": "code",
      "source": [
        "letra = input(\"Digite uma letra: \")\n",
        "if letra == 'a' or letra == 'e' or letra == 'i' or letra == 'o' or letra == 'u':\n",
        "  print(\"É uma vogal\")\n",
        "else:\n",
        "  print(\"É uma consoante\")"
      ],
      "metadata": {
        "id": "NbgndVyg-zFJ",
        "colab": {
          "base_uri": "https://localhost:8080/"
        },
        "outputId": "5bb3e63d-5830-4049-cb2e-9798296e7295"
      },
      "execution_count": null,
      "outputs": [
        {
          "output_type": "stream",
          "name": "stdout",
          "text": [
            "Digite uma letra: a\n",
            "É uma vogal\n"
          ]
        }
      ]
    },
    {
      "cell_type": "markdown",
      "source": [
        "#### Questão 4\n",
        "Escreva um programa que leia valores médios de preços de um modelo de carro por 3 anos consecutivos e exiba o valor mais alto e mais baixo entre esses três anos."
      ],
      "metadata": {
        "id": "mofMRjSZHP99"
      }
    },
    {
      "cell_type": "code",
      "source": [
        "valorUm = int(input(\"Digite o valor do primeiro ano: \"))\n",
        "valorDois = int(input(\"Digite o valor do segundo ano: \"))\n",
        "valorTres = int(input(\"Digite o valor do terceiro ano: \"))\n",
        "\n",
        "if valorUm > valorDois and valorUm > valorTres:\n",
        "  print(\"O valor mais alto é o do primeiro ano\")\n",
        "elif valorDois > valorTres and valorDois > valorUm:\n",
        "  print(\"O valor mais alto é o do segundo ano\")\n",
        "else:\n",
        "  print(\"O valor mais alto é o do terceiro ano\")\n",
        "\n",
        "if valorUm < valorDois and valorUm < valorTres:\n",
        "  print(\"O valor mais baixo é o do primeiro ano\")\n",
        "elif valorDois < valorTres and valorDois < valorUm:\n",
        "  print(\"O valor mais baixo é o do segundo ano\")\n",
        "else:\n",
        "  print(\"O valor mais baixo é o do terceiro ano\")"
      ],
      "metadata": {
        "id": "TX--d3k9-02c",
        "colab": {
          "base_uri": "https://localhost:8080/"
        },
        "outputId": "70fc53e6-7c72-4f9e-f321-4eff6f78ed76"
      },
      "execution_count": null,
      "outputs": [
        {
          "output_type": "stream",
          "name": "stdout",
          "text": [
            "Digite o valor do primeiro ano: 5\n",
            "Digite o valor do segundo ano: 6\n",
            "Digite o valor do terceiro ano: 10\n",
            "O valor mais alto é o do terceiro ano\n",
            "O valor mais baixo é o do primeiro ano\n"
          ]
        }
      ]
    },
    {
      "cell_type": "markdown",
      "source": [
        "#### Questão 5\n",
        "Escreva um programa que pergunte sobre o preço de três produtos e indique qual é o produto mais barato para comprar."
      ],
      "metadata": {
        "id": "jY5tIwd-HQzc"
      }
    },
    {
      "cell_type": "code",
      "source": [
        "produtoUm = int(input(\"Digite o preço do primeiro produto: \"))\n",
        "produtoDois = int(input(\"Digite o preço do segundo produto: \"))\n",
        "produtoTres = int(input(\"Digite o preço do terceiro produto: \"))\n",
        "\n",
        "if produtoUm < produtoDois and produtoUm < produtoTres:\n",
        "  print(\"O produto mais barato é o primeiro\")\n",
        "elif produtoDois < produtoTres and produtoDois < produtoUm:\n",
        "  print(\"O produto mais barato é o segundo\")\n",
        "else:\n",
        "  print(\"O produto mais barato é o terceiro\")"
      ],
      "metadata": {
        "id": "sYqNh9df-0gk",
        "colab": {
          "base_uri": "https://localhost:8080/"
        },
        "outputId": "62e889d3-0a1a-43a0-e934-a0910f3ef333"
      },
      "execution_count": null,
      "outputs": [
        {
          "output_type": "stream",
          "name": "stdout",
          "text": [
            "Digite o preço do primeiro produto: 12\n",
            "Digite o preço do segundo produto: 15\n",
            "Digite o preço do terceiro produto: 12\n",
            "O produto mais barato é o terceiro\n"
          ]
        }
      ]
    },
    {
      "cell_type": "markdown",
      "source": [
        "#### Questão 6\n",
        "Escreva um programa que leia três números e os exiba em ordem decrescente."
      ],
      "metadata": {
        "id": "1r6aVxtTHR4E"
      }
    },
    {
      "cell_type": "code",
      "source": [
        "numeroUm = int(input(\"Digite o primeiro número: \"))\n",
        "numeroDois = int(input(\"Digite o segundo número: \"))\n",
        "numeroTres = int(input(\"Digite o terceiro número: \"))\n",
        "\n",
        "lista = [numeroUm, numeroDois, numeroTres]\n",
        "lista.sort(reverse=True)\n",
        "print(lista)"
      ],
      "metadata": {
        "id": "ydOCYUMO-0Hk",
        "colab": {
          "base_uri": "https://localhost:8080/"
        },
        "outputId": "e5bfbf40-e115-4b88-9542-c53be03892f4"
      },
      "execution_count": null,
      "outputs": [
        {
          "output_type": "stream",
          "name": "stdout",
          "text": [
            "Digite o primeiro número: 50\n",
            "Digite o segundo número: 40\n",
            "Digite o terceiro número: 100\n",
            "[40, 50, 100]\n"
          ]
        }
      ]
    },
    {
      "cell_type": "markdown",
      "source": [
        "#### Questão 7\n",
        "Escreva um programa que pergunte em qual turno a pessoa usuária estuda (\"manhã\", \"tarde\" ou \"noite\") e exiba a mensagem \"Bom Dia!\", \"Boa Tarde!\", \"Boa Noite!\", ou \"Valor Inválido!\", conforme o caso."
      ],
      "metadata": {
        "id": "inW3F-hAHS_X"
      }
    },
    {
      "cell_type": "code",
      "source": [
        "turno = input(\"Digite em qual turno você estuda (manhã, tarde ou noite): \")\n",
        "if turno == 'manhã':\n",
        "  print(\"Bom Dia!\")\n",
        "elif turno == 'tarde':\n",
        "  print(\"Boa Tarde!\")\n",
        "elif turno == 'noite':\n",
        "  print(\"Boa Noite!\")\n",
        "else:\n",
        "  print(\"Valor Inválido!\")"
      ],
      "metadata": {
        "id": "-_q-Pcr_-zth",
        "colab": {
          "base_uri": "https://localhost:8080/"
        },
        "outputId": "74559b55-37f1-4c7d-8b08-f55144be1660"
      },
      "execution_count": null,
      "outputs": [
        {
          "output_type": "stream",
          "name": "stdout",
          "text": [
            "Digite em qual turno você estuda (manhã, tarde ou noite): tarde\n",
            "Boa Tarde!\n"
          ]
        }
      ]
    },
    {
      "cell_type": "markdown",
      "source": [
        "#### Questão 8\n",
        "Escreva um programa que peça um número inteiro à pessoa usuária e determine se ele é par ou ímpar. Dica: Você pode utilizar o operador módulo `%`."
      ],
      "metadata": {
        "id": "NCCPF3QqHTw-"
      }
    },
    {
      "cell_type": "code",
      "source": [
        "numero = int(input(\"Digite um número inteiro: \"))\n",
        "if numero % 2 == 0:\n",
        "  print(\"O número é par\")\n",
        "else:\n",
        "  print(\"O número é ímpar\")"
      ],
      "metadata": {
        "id": "OmZJt1nQ-3e6",
        "colab": {
          "base_uri": "https://localhost:8080/"
        },
        "outputId": "3b1f8abb-b4e0-4417-ee0e-2ef45ba5425c"
      },
      "execution_count": null,
      "outputs": [
        {
          "output_type": "stream",
          "name": "stdout",
          "text": [
            "Digite um número inteiro: 1\n",
            "O número é ímpar\n"
          ]
        }
      ]
    },
    {
      "cell_type": "markdown",
      "source": [
        "#### Questão 9\n",
        "Escreva um programa que peça um número à pessoa usuária e informe se ele é inteiro ou decimal."
      ],
      "metadata": {
        "id": "h93Ck1tQHUwE"
      }
    },
    {
      "cell_type": "code",
      "source": [
        "numero = input(\"Digite um número: \")\n",
        "if '.' in numero:\n",
        "  print(\"O número é decimal\")\n",
        "else:\n",
        "  print(\"O número é inteiro\")"
      ],
      "metadata": {
        "id": "sLMlZcx8-20N",
        "colab": {
          "base_uri": "https://localhost:8080/"
        },
        "outputId": "ac573159-0d23-44ca-ef21-aab331e0a385"
      },
      "execution_count": null,
      "outputs": [
        {
          "output_type": "stream",
          "name": "stdout",
          "text": [
            "Digite um número: 10.0\n",
            "O número é decimal\n"
          ]
        }
      ]
    },
    {
      "cell_type": "markdown",
      "source": [
        "### Momento dos projetos"
      ],
      "metadata": {
        "id": "bKdXSK1SH_pF"
      }
    },
    {
      "cell_type": "markdown",
      "source": [
        "#### Questão 10\n",
        "Um programa deve ser escrito para ler dois números e, em seguida, perguntar à pessoa usuária qual operação ele deseja realizar. O resultado da operação deve incluir informações sobre o número - se é par ou ímpar, positivo ou negativo e inteiro ou decimal."
      ],
      "metadata": {
        "id": "WBlEyyzsHV86"
      }
    },
    {
      "cell_type": "code",
      "source": [
        "numeroUm = eval(input(\"Digite o primeiro número: \"))\n",
        "numeroDois = eval(input(\"Digite o segundo número: \"))\n",
        "\n",
        "operacao = input(\"Digite a operação que deseja realizar (+, -, *, /): \")\n",
        "\n",
        "if operacao == '+':\n",
        "  resultado = numeroUm + numeroDois\n",
        "elif operacao == '-':\n",
        "  resultado = numeroUm - numeroDois\n",
        "elif operacao == '*':\n",
        "  resultado = numeroUm * numeroDois\n",
        "\n",
        "print(resultado)\n",
        "\n",
        "if resultado < 0:\n",
        "  print(\"O resultado é negativo\")\n",
        "else:\n",
        "  print(\"O resultado é positivo\")\n",
        "\n",
        "if '.' in str(resultado):\n",
        "  print(\"O resultado é decimal\")\n",
        "else:\n",
        "  print(\"O resultado é inteiro\")"
      ],
      "metadata": {
        "id": "3jmahZ0f-2gq",
        "colab": {
          "base_uri": "https://localhost:8080/"
        },
        "outputId": "6141b6a4-1ca5-4f6d-e8ea-a1afaa1dddb0"
      },
      "execution_count": null,
      "outputs": [
        {
          "output_type": "stream",
          "name": "stdout",
          "text": [
            "Digite o primeiro número: -11\n",
            "Digite o segundo número: 10.2\n",
            "Digite a operação que deseja realizar (+, -, *, /): +\n",
            "-0.8000000000000007\n",
            "O resultado é negativo\n",
            "O resultado é decimal\n"
          ]
        }
      ]
    },
    {
      "cell_type": "markdown",
      "source": [
        "#### Questão 11\n",
        "Escreva um programa que peça à pessoa usuária três números que representam os lados de um triângulo. O programa deve informar se os valores podem ser utilizados para formar um triângulo e, caso afirmativo, se ele é equilátero, isósceles ou escaleno. Tenha em mente algumas dicas:\n",
        "- Três lados formam um triângulo quando a soma de quaisquer dois lados for maior que o terceiro;\n",
        "- Triângulo Equilátero: três lados iguais;\n",
        "- Triângulo Isósceles: quaisquer dois lados iguais;\n",
        "- Triângulo Escaleno: três lados diferentes;\n"
      ],
      "metadata": {
        "id": "VdnlULxHHW19"
      }
    },
    {
      "cell_type": "code",
      "source": [
        "ladoUm = int(input(\"Digite o primeiro número: \"))\n",
        "ladoDois = int(input(\"Digite o segundo número: \"))\n",
        "ladoTres = int(input(\"Digite o terceiro número: \"))\n",
        "\n",
        "if ladoUm == ladoDois and ladoUm == ladoTres:\n",
        "  print(\"O triângulo é equilátero\")\n",
        "elif ladoUm != ladoDois and ladoDois != ladoTres:\n",
        "  print(\"O triângulo é Escaleno\")\n",
        "else:\n",
        "  print(\"O triângulo é Isósceles\")"
      ],
      "metadata": {
        "id": "0z73sqUO-2Pw",
        "colab": {
          "base_uri": "https://localhost:8080/"
        },
        "outputId": "1a5c14f4-cfc3-4073-ec93-4a3700a7c711"
      },
      "execution_count": null,
      "outputs": [
        {
          "output_type": "stream",
          "name": "stdout",
          "text": [
            "Digite o primeiro número: 8\n",
            "Digite o segundo número: 8\n",
            "Digite o terceiro número: 10\n",
            "O triângulo é Isósceles\n"
          ]
        }
      ]
    },
    {
      "cell_type": "markdown",
      "source": [
        "#### Questão 12\n",
        "Um estabelecimento está vendendo combustíveis com descontos variados. Para o etanol, se a quantidade comprada for até 15 litros, o desconto será de 2% por litro. Caso contrário, será de 4% por litro. Para o diesel, se a quantidade comprada for até 15 litros, o desconto será de 3% por litro. Caso contrário, será de 5% por litro. O preço do litro de diesel é R\\$ 2,00 e o preço do litro de etanol é R\\$ 1,70. Escreva um programa que leia a quantidade de litros vendidos e o tipo de combustível (E para etanol e D para diesel) e calcule o valor a ser pago pelo cliente. Tenha em mente algumas dicas:\n",
        "\n",
        "- O do valor do desconto será a multiplicação entre preço do litro, quantidade de litros e o valor do desconto.\n",
        "- O valor a ser pago por um cliente será o resultado da multiplicação do preço do litro pela quantidade de litros menos o valor de desconto resultante do cálculo.\n"
      ],
      "metadata": {
        "id": "_PpEpOugHXwZ"
      }
    },
    {
      "cell_type": "code",
      "source": [
        "quantidadeLitros = int(input(\"Digite a quantidade de litros: \"))\n",
        "tipoCombustivel = input(\"Digite o tipo de combustível (E para etanol e D para diesel): \")\n",
        "\n",
        "precoDiesel = 2\n",
        "precoEtanol = 1.7\n",
        "valorPago = 0\n",
        "valorDesconto = 0\n",
        "\n",
        "if tipoCombustivel == 'E':\n",
        "  if quantidadeLitros <= 15:\n",
        "    desconto = 0.02\n",
        "  else:\n",
        "    desconto = 0.04\n",
        "  valorDesconto = (precoEtanol * quantidadeLitros) - desconto\n",
        "\n",
        "if tipoCombustivel == 'D':\n",
        "  if quantidadeLitros <= 15:\n",
        "    desconto = 0.03\n",
        "  else:\n",
        "    desconto = 0.05\n",
        "  valorDesconto = (precoDiesel * quantidadeLitros) * desconto\n",
        "\n",
        "valorPago = (precoDiesel * quantidadeLitros) - valorDesconto\n",
        "print(f'Valor a ser pago R$: {valorPago:.2f}')\n",
        "print(f'Valor desconto R$: {valorDesconto:.2f}')"
      ],
      "metadata": {
        "id": "9izoF-0O-1yD",
        "colab": {
          "base_uri": "https://localhost:8080/"
        },
        "outputId": "9c2cc513-4adb-4589-d100-243340dd3a7e"
      },
      "execution_count": null,
      "outputs": [
        {
          "output_type": "stream",
          "name": "stdout",
          "text": [
            "Digite a quantidade de litros: 100\n",
            "Digite o tipo de combustível (E para etanol e D para diesel): D\n",
            "Valor a ser pago R$: 190.00\n",
            "Valor desconto R$: 10.00\n"
          ]
        }
      ]
    },
    {
      "cell_type": "markdown",
      "source": [
        "#### Questão 13\n",
        "Em uma empresa de venda de imóveis você precisa criar um código que analise os dados de vendas anuais para ajudar a diretoria na tomada de decisão. O código precisa coletar os dados de quantidade de venda durante os anos de 2022 e 2023 e fazer um cálculo de variação percentual. A partir do valor da variação, deve ser enviada às seguintes sugestões:\n",
        "- Para variação acima de 20%: bonificação para o time de vendas.\n",
        "- Para variação entre 2% e 20%: pequena bonificação para time de vendas.\n",
        "- Para variação entre 2% e -10%: planejamento de políticas de incentivo às vendas.\n",
        "- Para bonificações abaixo de -10%: corte de gastos.\n"
      ],
      "metadata": {
        "id": "s_XS_D1WHY2R"
      }
    },
    {
      "cell_type": "code",
      "source": [
        "def calcular_variacao_percentual(vendas_2022, vendas_2023):\n",
        "    return ((vendas_2023 - vendas_2022) / vendas_2022) * 100\n",
        "\n",
        "def analisar_variacao(variacao):\n",
        "    if variacao > 20:\n",
        "        return \"Bonificação para o time de vendas.\"\n",
        "    elif 2 <= variacao <= 20:\n",
        "        return \"Pequena bonificação para o time de vendas.\"\n",
        "    elif -10 <= variacao < 2:\n",
        "        return \"Planejamento de políticas de incentivo às vendas.\"\n",
        "    elif variacao < -10:\n",
        "        return \"Corte de gastos.\"\n",
        "\n",
        "# Coletar dados de vendas dos anos de 2022 e 2023\n",
        "vendas_2022 = float(input(\"Insira o número de vendas em 2022: \"))\n",
        "vendas_2023 = float(input(\"Insira o número de vendas em 2023: \"))\n",
        "\n",
        "# Calcular variação percentual\n",
        "variacao_percentual = calcular_variacao_percentual(vendas_2022, vendas_2023)\n",
        "\n",
        "# Analisar e exibir sugestão\n",
        "print(f\"\\nVariação percentual: {variacao_percentual:.2f}%\")\n",
        "sugestao = analisar_variacao(variacao_percentual)\n",
        "print(f\"Sugestão: {sugestao}\")\n"
      ],
      "metadata": {
        "id": "UsQKXFhniBR_"
      },
      "execution_count": null,
      "outputs": []
    },
    {
      "cell_type": "markdown",
      "source": [],
      "metadata": {
        "id": "QfJ4d43ZnB5-"
      }
    },
    {
      "cell_type": "markdown",
      "source": [
        "## Aula 4 - Estruturas de repetição"
      ],
      "metadata": {
        "id": "AuaWh4-d2Itt"
      }
    },
    {
      "cell_type": "markdown",
      "source": [
        "### Aquecendo na programação"
      ],
      "metadata": {
        "id": "6MSqU0sIJRdD"
      }
    },
    {
      "cell_type": "markdown",
      "source": [
        "#### Questão 1\n",
        "Escreva um programa que peça dois números inteiros e imprima todos os números inteiros entre eles."
      ],
      "metadata": {
        "id": "9eGGyCnAJRdQ"
      }
    },
    {
      "cell_type": "code",
      "source": [
        "numeroUm = int(input(\"Digite o primeiro número: \"))\n",
        "numeroDois = int(input(\"Digite o segundo número: \"))\n",
        "\n",
        "for i in range(numeroUm + 1, numeroDois):\n",
        "  print(i)"
      ],
      "metadata": {
        "id": "ID1oc1hxJRdQ",
        "colab": {
          "base_uri": "https://localhost:8080/"
        },
        "outputId": "f0c9caff-89cd-4660-9686-6774324ed10b"
      },
      "execution_count": null,
      "outputs": [
        {
          "output_type": "stream",
          "name": "stdout",
          "text": [
            "Digite o primeiro número: 1\n",
            "Digite o segundo número: 10\n",
            "2\n",
            "3\n",
            "4\n",
            "5\n",
            "6\n",
            "7\n",
            "8\n",
            "9\n"
          ]
        }
      ]
    },
    {
      "cell_type": "markdown",
      "source": [
        "#### Questão 2\n",
        "Escreva um programa para calcular quantos dias levará para a colônia de uma bactéria A ultrapassar ou igualar a colônia de uma bactéria B, com base nas taxas de crescimento de 3% e 1,5% respectivamente. Considere que a colônia A inicia com 4 elementos e a colônia B com 10 elementos."
      ],
      "metadata": {
        "id": "mGonEHYCJRdR"
      }
    },
    {
      "cell_type": "code",
      "source": [
        "coloniaA = 4\n",
        "coloniaB = 10\n",
        "dias = 0\n",
        "\n",
        "while coloniaA <= coloniaB:\n",
        "  coloniaA *= 1.03\n",
        "  coloniaB *= 1.015\n",
        "  dias += 1\n",
        "\n",
        "print(dias)"
      ],
      "metadata": {
        "id": "wM6FJuoqJRdR",
        "colab": {
          "base_uri": "https://localhost:8080/"
        },
        "outputId": "98026382-9f99-42e8-95f0-e3fd6c1c4b0c"
      },
      "execution_count": null,
      "outputs": [
        {
          "output_type": "stream",
          "name": "stdout",
          "text": [
            "63\n"
          ]
        }
      ]
    },
    {
      "cell_type": "markdown",
      "source": [
        "#### Questão 3\n",
        "Para tratar uma quantidade de 15 dados de avaliações de pessoas usuárias de um serviço da empresa, precisamos verificar se as notas são válidas. Então, escreva um programa que vai receber a nota de 0 a 5 de todos os dados e verificar se é um valor válido. Caso seja inserido uma nota acima de 5 ou abaixo de 0, repita até que a pessoa usuária insira um valor válido."
      ],
      "metadata": {
        "id": "UiOZRlqoJRdR"
      }
    },
    {
      "cell_type": "code",
      "source": [
        "def receber_notas(qtd_dados):\n",
        "    notas = []\n",
        "    for i in range(qtd_dados):\n",
        "        while True:\n",
        "            try:\n",
        "                nota = float(input(f\"Digite a nota {i + 1} (entre 0 e 5): \"))\n",
        "                if 0 <= nota <= 5:\n",
        "                    notas.append(nota)\n",
        "                    break\n",
        "                else:\n",
        "                    print(\"Nota inválida! Insira um valor entre 0 e 5.\")\n",
        "            except ValueError:\n",
        "                print(\"Entrada inválida! Por favor, insira um número.\")\n",
        "    return notas\n",
        "\n",
        "qtd_dados = 15\n",
        "notas_recebidas = receber_notas(qtd_dados)\n",
        "print(\"\\nNotas válidas inseridas:\")\n",
        "print(notas_recebidas)"
      ],
      "metadata": {
        "id": "3TUAhCxcJRdR"
      },
      "execution_count": null,
      "outputs": []
    },
    {
      "cell_type": "markdown",
      "source": [
        "#### Questão 4\n",
        "Desenvolva um programa que leia um conjunto indeterminado de tempMediaMensals em Celsius e faça uma análise. Portanto, escreva um programa que leia tempMediaMensals e informe a média delas. A leitura deve ser encerrada ao ser enviado o valor -273°C."
      ],
      "metadata": {
        "id": "ABv3KObGJRdR"
      }
    },
    {
      "cell_type": "code",
      "source": [
        "contador = 0\n",
        "tempTotal = 0\n",
        "\n",
        "while True:\n",
        "  tempMediaMensal = int(input(\"Digite a tempMediaMensal: \"))\n",
        "  if tempMediaMensal == -273:\n",
        "    break\n",
        "  contador += 1\n",
        "  tempTotal += tempMediaMensal\n",
        "\n",
        "print(f'A média das {contador} tempMediaMensals é: {tempTotal / contador}')"
      ],
      "metadata": {
        "id": "7RTH8o0HJRdS",
        "colab": {
          "base_uri": "https://localhost:8080/"
        },
        "outputId": "9e2d16f4-5284-4204-a028-934a3a424964"
      },
      "execution_count": 3,
      "outputs": [
        {
          "output_type": "stream",
          "name": "stdout",
          "text": [
            "Digite a temperatura: 10\n",
            "Digite a temperatura: 10\n",
            "Digite a temperatura: 10\n",
            "Digite a temperatura: -273\n",
            "A média das 3 temperaturas é: 10.0\n"
          ]
        }
      ]
    },
    {
      "cell_type": "markdown",
      "source": [
        "### Momento dos projetos"
      ],
      "metadata": {
        "id": "oGNKuQjsJRdT"
      }
    },
    {
      "cell_type": "markdown",
      "source": [
        "#### Questão 6\n",
        "Escreva um programa que gere a tabuada de um número inteiro de 1 a 10, de acordo com a escolha da pessoa usuária. Como exemplo, para o número 2, a tabuada deve ser mostrada no seguinte formato:\n",
        "```\n",
        "Tabuada do 2:\n",
        "2 x 1 = 2\n",
        "2 x 2 = 4\n",
        "[...]\n",
        "2 x 10 = 20\n",
        "```"
      ],
      "metadata": {
        "id": "ODxaTUYmJRdS"
      }
    },
    {
      "cell_type": "code",
      "source": [
        "numero = int(input(\"Digite o número que deseja ver a tabuada: \"))\n",
        "print(f'Tabuada do {numero}:')\n",
        "for i in range(1, 11):\n",
        "  print(f'{numero} x {i} = {numero * i}')"
      ],
      "metadata": {
        "id": "lkTlbxPIJRdS",
        "colab": {
          "base_uri": "https://localhost:8080/"
        },
        "outputId": "c998fe10-fdd0-4357-8073-db204be46303"
      },
      "execution_count": 4,
      "outputs": [
        {
          "output_type": "stream",
          "name": "stdout",
          "text": [
            "Digite o número que deseja ver a tabuada: 5\n",
            "Tabuada do 5:\n",
            "5 x 1 = 5\n",
            "5 x 2 = 10\n",
            "5 x 3 = 15\n",
            "5 x 4 = 20\n",
            "5 x 5 = 25\n",
            "5 x 6 = 30\n",
            "5 x 7 = 35\n",
            "5 x 8 = 40\n",
            "5 x 9 = 45\n",
            "5 x 10 = 50\n"
          ]
        }
      ]
    },
    {
      "cell_type": "markdown",
      "source": [
        "#### Questão 7\n",
        "Os números primos possuem várias aplicações dentro da Ciência de Dados, por exemplo, na criptografia e segurança. Um número primo é aquele que é divisível apenas por um e por ele mesmo. Faça um programa que peça um número inteiro e determine se ele é ou não um número primo."
      ],
      "metadata": {
        "id": "LeIbnt8VJRdS"
      }
    },
    {
      "cell_type": "code",
      "source": [
        "numeroPrimo = int(input(\"Digite um número inteiro: \"))\n",
        "contador = 0\n",
        "for i in range(1, numeroPrimo + 1):\n",
        "  if numeroPrimo % i == 0:\n",
        "    contador += 1\n",
        "\n",
        "if contador == 2:\n",
        "  print(\"O número é primo\")\n",
        "else:\n",
        "  print(\"O número não é primo\")"
      ],
      "metadata": {
        "id": "2rcNU7twJRdS",
        "colab": {
          "base_uri": "https://localhost:8080/"
        },
        "outputId": "0c8c8197-5df9-4231-e7d9-ff2076ea0d7b"
      },
      "execution_count": 9,
      "outputs": [
        {
          "output_type": "stream",
          "name": "stdout",
          "text": [
            "Digite um número inteiro: 7\n",
            "O número é primo\n"
          ]
        }
      ]
    },
    {
      "cell_type": "markdown",
      "source": [
        "#### Questão 8\n",
        "Vamos entender a distribuição de idades de pensionistas de uma empresa de previdência. Escreva um programa que leia as idades de uma quantidade não informada de clientes e mostre a distribuição em intervalos de [0-25], [26-50], [51-75] e [76-100]. Encerre a entrada de dados com um número negativo."
      ],
      "metadata": {
        "id": "QTwb6QaCJRdT"
      }
    },
    {
      "cell_type": "code",
      "source": [
        "ate25 = 0\n",
        "ate50 = 0\n",
        "ate75 = 0\n",
        "ate100 = 0\n",
        "\n",
        "while True:\n",
        "  idade = int(input(\"Digite a idade: \"))\n",
        "  if idade < 0:\n",
        "    break\n",
        "\n",
        "  if idade <= 25:\n",
        "    ate25 += 1\n",
        "  elif idade <= 50:\n",
        "    ate50 += 1\n",
        "  elif idade <= 75:\n",
        "    ate75 += 1\n",
        "  else:\n",
        "    ate100 += 1\n",
        "\n",
        "print('\\n################# RESUMO DOS DADOS #################')\n",
        "print(f'Até 25 anos: {ate25}')\n",
        "print(f'Até 50 anos: {ate50}')\n",
        "print(f'Até 75 anos: {ate75}')\n",
        "print(f'Até 100 anos: {ate100}')"
      ],
      "metadata": {
        "id": "4IAhaDmYJRdT",
        "colab": {
          "base_uri": "https://localhost:8080/"
        },
        "outputId": "8a187b45-e3b3-4a5d-93fe-786f0fcc323c"
      },
      "execution_count": 16,
      "outputs": [
        {
          "output_type": "stream",
          "name": "stdout",
          "text": [
            "Digite a idade: 90\n",
            "Digite a idade: 9\n",
            "Digite a idade: 90\n",
            "Digite a idade: 90\n",
            "Digite a idade: 90\n",
            "Digite a idade: 90\n",
            "Digite a idade: -1\n",
            "\n",
            "################# RESUMO DOS DADOS #################\n",
            "Até 25 anos: 1\n",
            "Até 50 anos: 0\n",
            "Até 75 anos: 0\n",
            "Até 100 anos: 5\n"
          ]
        }
      ]
    },
    {
      "cell_type": "markdown",
      "source": [
        "#### Questão 9\n",
        "Em uma eleição para gerência em uma empresa com 20 funcionários, existem quatro candidatos. Escreva um programa que calcule o vencedor da eleição. A votação ocorreu da seguinte maneira:\n",
        "- Cada funcionário votou em um dos quatro candidatos (representados pelos números 1, 2, 3 e 4).\n",
        "- Também foram contabilizados os votos nulos (representado pelo número 5) e os votos em branco (representado pelo número 6).\n",
        "\n",
        "Ao final da votação, o programa deve exibir o total de votos para cada candidato, o número de votos nulos e o número de votos em branco. Além disso, deve calcular e exibir a porcentagem de votos nulos em relação ao total de votos e a porcentagem de votos em branco em relação ao total de votos."
      ],
      "metadata": {
        "id": "soJCQVwRJRdT"
      }
    },
    {
      "cell_type": "code",
      "source": [
        "candidatos = candidatoUm = candidatoDois = candidatoTres = candidatoQuatro = nulo = branco = 0\n",
        "\n",
        "for i in range(1, 21):\n",
        "  voto = int(input(f'Digite o voto do funcionário {i}: '))\n",
        "\n",
        "  if voto == 1:\n",
        "    candidatoUm += 1\n",
        "  elif voto == 2:\n",
        "    candidatoDois += 1\n",
        "  elif voto == 3:\n",
        "    candidatoTres += 1\n",
        "  elif voto == 4:\n",
        "    candidatoQuatro += 1\n",
        "  elif voto == 5:\n",
        "    nulo += 1\n",
        "  elif voto == 6:\n",
        "    branco += 1\n",
        "\n",
        "if candidatoDois > candidatoTres and candidatoDois > candidatoQuatro and candidatoDois > candidatoUm:\n",
        "  vencedor = 'Candidato 2'\n",
        "elif candidatoTres > candidatoQuatro and candidatoTres > candidatoDois and candidatoTres > candidatoUm:\n",
        "  vencedor = 'Candidato 3'\n",
        "elif candidatoQuatro > candidatoDois and candidatoQuatro > candidatoTres and candidatoQuatro > candidatoUm:\n",
        "  vencedor = 'Candidato 4'\n",
        "else:\n",
        "  vencedor = 'Candidato 1'\n",
        "\n",
        "print('\\n################# RESUMO DOS DADOS #################')\n",
        "print(f'Candidato vencedor: {vencedor}\\n')\n",
        "print(f'Candidato 1: {candidatoUm}')\n",
        "print(f'Candidato 2: {candidatoDois}')\n",
        "print(f'Candidato 3: {candidatoTres}')\n",
        "print(f'Candidato 4: {candidatoQuatro}')\n",
        "print(f'Nulos: {nulo}')\n",
        "print(f'Brancos: {branco}')"
      ],
      "metadata": {
        "id": "041EFrgG-4gR",
        "colab": {
          "base_uri": "https://localhost:8080/"
        },
        "outputId": "e608092f-adf8-4dba-f1f5-c544080b146d"
      },
      "execution_count": 20,
      "outputs": [
        {
          "output_type": "stream",
          "name": "stdout",
          "text": [
            "Digite o voto do funcionário 1: 1\n",
            "Digite o voto do funcionário 2: 1\n",
            "Digite o voto do funcionário 3: 1\n",
            "Digite o voto do funcionário 4: 1\n",
            "Digite o voto do funcionário 5: 2\n",
            "Digite o voto do funcionário 6: 2\n",
            "Digite o voto do funcionário 7: 2\n",
            "Digite o voto do funcionário 8: 2\n",
            "Digite o voto do funcionário 9: 2\n",
            "Digite o voto do funcionário 10: 2\n",
            "Digite o voto do funcionário 11: 3\n",
            "Digite o voto do funcionário 12: 3\n",
            "Digite o voto do funcionário 13: 3\n",
            "Digite o voto do funcionário 14: 3\n",
            "Digite o voto do funcionário 15: 3\n",
            "Digite o voto do funcionário 16: 4\n",
            "Digite o voto do funcionário 17: 4\n",
            "Digite o voto do funcionário 18: 4\n",
            "Digite o voto do funcionário 19: 4\n",
            "Digite o voto do funcionário 20: 4\n",
            "\n",
            "################# RESUMO DOS DADOS #################\n",
            "Candidato vencedor: Candidato 2\n",
            "\n",
            "Candidato 1: 4\n",
            "Candidato 2: 6\n",
            "Candidato 3: 5\n",
            "Candidato 4: 5\n",
            "Nulos: 0\n",
            "Brancos: 0\n"
          ]
        }
      ]
    },
    {
      "cell_type": "markdown",
      "source": [
        "## Aula 5 - Estruturas de dados"
      ],
      "metadata": {
        "id": "eijHQiNU2IZ7"
      }
    },
    {
      "cell_type": "markdown",
      "source": [
        "### Aquecendo na programação"
      ],
      "metadata": {
        "id": "92F0bKtBMgd7"
      }
    },
    {
      "cell_type": "markdown",
      "source": [
        "#### Questão 1\n",
        "Faça um programa que tenha a seguinte lista contendo os valores de gastos de uma empresa de papel `[2172.54, 3701.35, 3518.09, 3456.61, 3249.38, 2840.82, 3891.45, 3075.26, 2317.64, 3219.08]`. Com esses valores, faça um programa que calcule a média de gastos. Dica, use as funções built-in [`sum()`](https://docs.python.org/3/library/functions.html#sum) e [`len()`](https://docs.python.org/3/library/functions.html#len)."
      ],
      "metadata": {
        "id": "IypX2ANuMgeC"
      }
    },
    {
      "cell_type": "code",
      "source": [
        "gastoPapel = [2172.54, 3701.35, 3518.09, 3456.61, 3249.38, 2840.82, 3891.45, 3075.26, 2317.64, 3219.08]\n",
        "\n",
        "media = sum(gastoPapel) / len(gastoPapel)\n",
        "print(f'A media dos gastos é: {media}')"
      ],
      "metadata": {
        "id": "ge3LuFhLMgeD",
        "colab": {
          "base_uri": "https://localhost:8080/"
        },
        "outputId": "5d75054a-134a-4349-d762-9b6c6b74e2ae"
      },
      "execution_count": 22,
      "outputs": [
        {
          "output_type": "stream",
          "name": "stdout",
          "text": [
            "A media dos gastos é: 3144.222\n"
          ]
        }
      ]
    },
    {
      "cell_type": "markdown",
      "source": [
        "#### Questão 2\n",
        " Com os mesmos dados da questão anterior, defina quantas compras foram acima de 3000 reais e calcule a porcentagem quanto ao total de compras."
      ],
      "metadata": {
        "id": "xrOeLhQkMgeD"
      }
    },
    {
      "cell_type": "code",
      "source": [
        "contador = 0\n",
        "contadorNum = 0\n",
        "for gastoMaiorQ in gastoPapel:\n",
        "  if gastoMaiorQ > 3000:\n",
        "    contador += gastoMaiorQ\n",
        "    contadorNum += 1\n",
        "\n",
        "print(contadorNum)\n",
        "print(contador)\n",
        "print(f'A porcentagem de compras acima de 3000 é: {contador / sum(gastoPapel) * 100}')"
      ],
      "metadata": {
        "id": "Ygu5TMZyMgeD",
        "colab": {
          "base_uri": "https://localhost:8080/"
        },
        "outputId": "0ed1bdb3-7b3d-45c7-e9fe-4697825c266f"
      },
      "execution_count": 25,
      "outputs": [
        {
          "output_type": "stream",
          "name": "stdout",
          "text": [
            "7\n",
            "24111.22\n",
            "A porcentagem de compras acima de 3000 é: 76.68421631805896\n"
          ]
        }
      ]
    },
    {
      "cell_type": "markdown",
      "source": [
        "#### Questão 3\n",
        "Faça um código que colete em uma lista 5 números inteiros quaisquer e imprima a lista. Exemplo: `[1,4,7,2,4]`."
      ],
      "metadata": {
        "id": "JgCOrE_BMgeD"
      }
    },
    {
      "cell_type": "code",
      "source": [
        "lista = []\n",
        "for i in range(5):\n",
        "  numero = int(input(\"Digite um número: \"))\n",
        "  lista.append(numero)\n",
        "\n",
        "print(lista)"
      ],
      "metadata": {
        "id": "vtM9O1hLMgeD",
        "colab": {
          "base_uri": "https://localhost:8080/"
        },
        "outputId": "635d7d0d-eb45-4e37-ba39-ee124ba703c4"
      },
      "execution_count": 30,
      "outputs": [
        {
          "output_type": "stream",
          "name": "stdout",
          "text": [
            "Digite um número: 7\n",
            "Digite um número: 7\n",
            "Digite um número: 7\n",
            "Digite um número: 7\n",
            "Digite um número: 7\n",
            "[7, 7, 7, 7, 7]\n"
          ]
        }
      ]
    },
    {
      "cell_type": "markdown",
      "source": [
        "#### Questão 4\n",
        "Colete novamente 5 inteiros e imprima a lista em ordem inversa à enviada."
      ],
      "metadata": {
        "id": "p3bTp88HMgeD"
      }
    },
    {
      "cell_type": "code",
      "source": [
        "lista = []\n",
        "for i in range(5):\n",
        "  numero = int(input(\"Digite um número: \"))\n",
        "  lista.append(numero)\n",
        "lista.reverse()\n",
        "print(lista)"
      ],
      "metadata": {
        "id": "-CGwMIyHMgeD",
        "colab": {
          "base_uri": "https://localhost:8080/"
        },
        "outputId": "d46b4772-f9e4-4b02-aa4c-d85251a9af31"
      },
      "execution_count": 1,
      "outputs": [
        {
          "output_type": "stream",
          "name": "stdout",
          "text": [
            "Digite um número: 1\n",
            "Digite um número: 2\n",
            "Digite um número: 3\n",
            "Digite um número: 4\n",
            "Digite um número: 5\n",
            "[5, 4, 3, 2, 1]\n"
          ]
        }
      ]
    },
    {
      "cell_type": "markdown",
      "source": [
        "#### Questão 5\n",
        "Faça um programa que, ao inserir um número qualquer, criará uma lista contendo todos os números primos entre 1 e o número digitado."
      ],
      "metadata": {
        "id": "eIXd_z1lMgeD"
      }
    },
    {
      "cell_type": "code",
      "source": [
        "def eh_primo(numero):\n",
        "    if numero < 2:\n",
        "        return False\n",
        "    for i in range(2, int(numero**0.5) + 1):\n",
        "        if numero % i == 0:\n",
        "            return False\n",
        "    return True\n",
        "\n",
        "def encontrar_primos(ate):\n",
        "    primos = []\n",
        "    for num in range(1, ate + 1):\n",
        "        if eh_primo(num):\n",
        "            primos.append(num)\n",
        "    return primos\n",
        "\n",
        "numero = int(input(\"Digite um número: \"))\n",
        "primos = encontrar_primos(numero)\n",
        "print(f\"Números primos entre 1 e {numero}: {primos}\")"
      ],
      "metadata": {
        "id": "rj_6GHstMgeE",
        "colab": {
          "base_uri": "https://localhost:8080/"
        },
        "outputId": "02f0cb47-2891-4072-c31e-e04936cf47a9"
      },
      "execution_count": 54,
      "outputs": [
        {
          "output_type": "stream",
          "name": "stdout",
          "text": [
            "Digite um número: 10\n",
            "Números primos entre 1 e 10: [2, 3, 5, 7]\n"
          ]
        }
      ]
    },
    {
      "cell_type": "markdown",
      "source": [
        "#### Questão 6\n",
        "Escreva um programa que peça uma data informando o dia, mês e ano e determine se ela é uma data válida para uma análise."
      ],
      "metadata": {
        "id": "zrbz3ENlMgeE"
      }
    },
    {
      "cell_type": "code",
      "source": [
        "dia = int(input(\"Digite o dia (DD): \"))\n",
        "mes = int(input(\"Digite o mês (MM): \"))\n",
        "ano = int(input(\"Digite o ano (AAAA): \"))\n",
        "\n",
        "if mes > 0 and mes <= 12 and dia > 0 and dia <= 31 and ano <= 2025:\n",
        "  print(\"Data válida\")\n",
        "else:\n",
        "  print(\"Data inválida\")\n",
        ""
      ],
      "metadata": {
        "id": "0eYA8UjTMgeE",
        "colab": {
          "base_uri": "https://localhost:8080/"
        },
        "outputId": "c61465c7-21d7-4e4a-c57c-053e116c7e53"
      },
      "execution_count": 56,
      "outputs": [
        {
          "output_type": "stream",
          "name": "stdout",
          "text": [
            "Digite o dia (DD): 40\n",
            "Digite o mês (MM): 2\n",
            "Digite o ano (AAAA): 2022\n",
            "Data inválida\n"
          ]
        }
      ]
    },
    {
      "cell_type": "markdown",
      "source": [
        "### Momento dos projetos"
      ],
      "metadata": {
        "id": "ut_4VHdGMgeE"
      }
    },
    {
      "cell_type": "markdown",
      "source": [
        "#### Questão 7\n",
        "Para um estudo envolvendo o nível de multiplicação de bactérias em uma colônia, foi coletado o número de bactérias multiplicadas por dia, com base em um processo de duplicação diária e pode ser observado a seguir: `[1.2, 2.1, 3.3, 5.0, 7.8, 11.3, 16.6, 25.1, 37.8, 56.9]`. Tendo esses valores, faça um código que gere uma lista contendo o percentual de crescimento de bactérias por dia, comparando o número de bactérias em cada dia com o número de bactérias do dia anterior. Dica: para calcular o percentual de crescimento usamos a seguinte equação: `100 * (amostra_atual - amostra_passada) / (amostra_passada)`."
      ],
      "metadata": {
        "id": "G86Z0vD_MgeE"
      }
    },
    {
      "cell_type": "code",
      "source": [
        "bacteriaColonia = [1.2, 2.1, 3.3, 5.0, 7.8, 11.3, 16.6, 25.1, 37.8, 56.9]\n",
        "percentualCrescimento = []\n",
        "\n",
        "for i in range(1, len(bacteriaColonia)):\n",
        "  percentual = 100 * (bacteriaColonia[i] - bacteriaColonia[i - 1]) / bacteriaColonia[i - 1]\n",
        "  percentualCrescimento.append(percentual)\n",
        "\n",
        "print(percentualCrescimento)"
      ],
      "metadata": {
        "id": "PXNO_CFkMgeE",
        "colab": {
          "base_uri": "https://localhost:8080/"
        },
        "outputId": "a3524fbd-d2ff-4e30-f262-dbbae9a89d0a"
      },
      "execution_count": 2,
      "outputs": [
        {
          "output_type": "stream",
          "name": "stdout",
          "text": [
            "[75.00000000000001, 57.142857142857125, 51.51515151515153, 56.0, 44.87179487179489, 46.90265486725664, 51.20481927710843, 50.59760956175297, 50.52910052910054]\n"
          ]
        }
      ]
    },
    {
      "cell_type": "markdown",
      "source": [
        "#### Questão 8\n",
        "Para uma seleção de produtos alimentícios, precisamos separar o conjunto de IDs dados por números inteiros, sabendo que os produtos com ID par são doces e os com ID ímpar são amargos. Monte um código que colete 10 IDs. Depois, calcule e mostre a quantidade de produtos doces e amargos."
      ],
      "metadata": {
        "id": "p4nxogpnMgeE"
      }
    },
    {
      "cell_type": "code",
      "source": [],
      "metadata": {
        "id": "WqjO2SZkMgeE"
      },
      "execution_count": null,
      "outputs": []
    },
    {
      "cell_type": "markdown",
      "source": [
        "#### Questão 9\n",
        "Desenvolva um programa que informa a nota de um aluno de acordo com suas respostas. Ele deve pedir a resposta de um aluno para cada questão e é preciso verificar se a resposta foi igual ao gabarito. Cada questão vale um ponto e existem alternativas:  A, B, C ou D.\n",
        "```\n",
        "Gabarito da Prova:\n",
        "01 - D\n",
        "02 - A\n",
        "03 - C\n",
        "04 - B\n",
        "05 - A\n",
        "06 - D\n",
        "07 - C\n",
        "08 - C\n",
        "09 - A\n",
        "10 - B\n",
        "```"
      ],
      "metadata": {
        "id": "t5OrLxV6MgeE"
      }
    },
    {
      "cell_type": "code",
      "source": [
        "from binascii import Error\n",
        "gabarito = ['D', 'A', 'C', 'B', 'A', 'D', 'C', 'C', 'A', 'B']\n",
        "respostas = []\n",
        "acertos = erros = media = 0\n",
        "\n",
        "for i in range(1, 11):\n",
        "  resposta = input(f'Digite a resposta da questão (A, B, C, D) {i}: ').upper()\n",
        "  respostas.append(resposta)\n",
        "\n",
        "  if respostas[i - 1] == gabarito[i - 1]:\n",
        "    acertos += 1\n",
        "  else:\n",
        "    erros += 1\n",
        "\n",
        "media = acertos / 10 * 10\n",
        "\n",
        "print('\\n################# RESUMO DOS DADOS #################')\n",
        "print(f'Quantidade de acertos: {acertos}')\n",
        "print(f'Quantidade de erros: {erros}')\n",
        "print(f'A média de acertos é: {media}')\n",
        "\n",
        "if  media >= 6:\n",
        "  print('Parabéns você está APROVADO')\n",
        "else:\n",
        "  print('Infelizmente você está REPROVADO')"
      ],
      "metadata": {
        "id": "ytIQDJrQMgeE",
        "colab": {
          "base_uri": "https://localhost:8080/"
        },
        "outputId": "78a47ecf-987c-4b42-8e65-b898491dcfc3"
      },
      "execution_count": 9,
      "outputs": [
        {
          "output_type": "stream",
          "name": "stdout",
          "text": [
            "Digite a resposta da questão (A, B, C, D) 1: d\n",
            "Digite a resposta da questão (A, B, C, D) 2: a\n",
            "Digite a resposta da questão (A, B, C, D) 3: c\n",
            "Digite a resposta da questão (A, B, C, D) 4: b\n",
            "Digite a resposta da questão (A, B, C, D) 5: a\n",
            "Digite a resposta da questão (A, B, C, D) 6: d\n",
            "Digite a resposta da questão (A, B, C, D) 7: c\n",
            "Digite a resposta da questão (A, B, C, D) 8: c\n",
            "Digite a resposta da questão (A, B, C, D) 9: a\n",
            "Digite a resposta da questão (A, B, C, D) 10: b\n",
            "\n",
            "################# RESUMO DOS DADOS #################\n",
            "Quantidade de acertos: 10\n",
            "Quantidade de erros: 0\n",
            "A média de acertos é: 10.0\n",
            "Parabéns você está APROVADO\n"
          ]
        }
      ]
    },
    {
      "cell_type": "markdown",
      "source": [
        "#### Questão 10\n",
        "Um instituto de meteorologia deseja fazer um estudo de tempMediaMensal média de cada mês do ano. Para isso, você precisa fazer um código que colete e armazene essas tempMediaMensals médias em uma lista. Depois, calcule a média anual das tempMediaMensals e mostre todas as tempMediaMensals acima da média anual, e em que mês elas ocorreram, mostrando os meses por extenso: Janeiro, Fevereiro, etc."
      ],
      "metadata": {
        "id": "aSBMzh-AMgeF"
      }
    },
    {
      "cell_type": "code",
      "source": [
        "listaMeses = ['Janeiro', 'Fevereiro', 'Março', 'Abril', 'Maio','Junho',\n",
        "              'Julho', 'Agosto', 'Setembro', 'Outubro', 'Novembro', 'Dezembro'\n",
        "             ]\n",
        "tempMediaMensals = []\n",
        "tempMaiorMediaAnual = {}\n",
        "\n",
        "for i in range(12):\n",
        "  tempMediaMensal = float(input(f'Digite a temperatura media de {listaMeses[i]}: '))\n",
        "  tempMediaMensals.append(tempMediaMensal)\n",
        "\n",
        "mediaAnual = sum(tempMediaMensals) / len(tempMediaMensals)\n",
        "\n",
        "for i in range(12):\n",
        "  if tempMediaMensals[i] > mediaAnual:\n",
        "    tempMaiorMediaAnual[listaMeses[i]] = tempMediaMensals[i]\n",
        "\n",
        "print('\\n################# RESUMO DOS DADOS #################')\n",
        "print(f'A média anual é: {mediaAnual}')\n",
        "print(f'\\nAs temperaturas mensais, acima da média anual são:')\n",
        "\n",
        "for chave, valor in tempMaiorMediaAnual.items():\n",
        "  print(f'{chave}: {valor}')\n",
        "\n"
      ],
      "metadata": {
        "id": "ftj04s2uMgeF",
        "colab": {
          "base_uri": "https://localhost:8080/"
        },
        "outputId": "719993aa-e365-4b57-a917-013c462741ee"
      },
      "execution_count": 33,
      "outputs": [
        {
          "output_type": "stream",
          "name": "stdout",
          "text": [
            "Digite a temperatura media de Janeiro: 10\n",
            "Digite a temperatura media de Fevereiro: 21\n",
            "Digite a temperatura media de Março: 10\n",
            "Digite a temperatura media de Abril: 32\n",
            "Digite a temperatura media de Maio: 10\n",
            "Digite a temperatura media de Junho: 10\n",
            "Digite a temperatura media de Julho: 10\n",
            "Digite a temperatura media de Agosto: 10\n",
            "Digite a temperatura media de Setembro: 12\n",
            "Digite a temperatura media de Outubro: 24\n",
            "Digite a temperatura media de Novembro: 21\n",
            "Digite a temperatura media de Dezembro: 10\n",
            "\n",
            "################# RESUMO DOS DADOS #################\n",
            "A média anual é: 15.0\n",
            "\n",
            "As temperaturas mensais, acima da média anual são:\n",
            "Fevereiro: 21.0\n",
            "Abril: 32.0\n",
            "Outubro: 24.0\n",
            "Novembro: 21.0\n"
          ]
        }
      ]
    },
    {
      "cell_type": "markdown",
      "source": [
        "#### Questão 11\n",
        "Uma empresa de e-commerce está interessada em analisar as vendas dos seus produtos. Os dados das vendas foram armazenados em um dicionário:\n",
        "```\n",
        "{'Produto A': 300, 'Produto B': 80, 'Produto C': 60,\n",
        " 'Produto D': 200, 'Produto E': 250, 'Produto F': 30}\n",
        "```\n",
        "Escreva um código que calcule o total de vendas e o produto mais vendido."
      ],
      "metadata": {
        "id": "0X8S6s4jMgeF"
      }
    },
    {
      "cell_type": "code",
      "source": [
        "produtos = {'Produto A': 300, 'Produto B': 80, 'Produto C': 60,\n",
        " 'Produto D': 200, 'Produto E': 250, 'Produto F': 30}\n",
        "\n",
        "totalVendas = 0\n",
        "produtoMaisVendido = ''\n",
        "maiorQuantidade = 0\n",
        "\n",
        "for chave, valor in produtos.items():\n",
        "  totalVendas += valor\n",
        "  if valor > maiorQuantidade:\n",
        "    maiorQuantidade = valor\n",
        "    produtoMaisVendido = chave\n",
        "\n",
        "print('\\n################# RESUMO DOS DADOS #################')\n",
        "print(f'O total de vendas é: {totalVendas}')\n",
        "print(f'O produto mais vendido é: {produtoMaisVendido}')"
      ],
      "metadata": {
        "id": "Xa3DJLtFMgeF",
        "colab": {
          "base_uri": "https://localhost:8080/"
        },
        "outputId": "62cf3946-5db2-4b41-df0d-7e04f30955bf"
      },
      "execution_count": 34,
      "outputs": [
        {
          "output_type": "stream",
          "name": "stdout",
          "text": [
            "\n",
            "################# RESUMO DOS DADOS #################\n",
            "O total de vendas é: 920\n",
            "O produto mais vendido é: Produto A\n"
          ]
        }
      ]
    },
    {
      "cell_type": "markdown",
      "source": [
        "#### Questão 12\n",
        "Uma pesquisa de mercado foi feita para decidir qual design de uma marca infantil mais agrada crianças. A pesquisa foi feita e o votos computados podem ser observados abaixo:\n",
        "```\n",
        "'''\n",
        "Tabela de votos da marca\n",
        "Design 1 - 1334 votos\n",
        "Design 2 - 982 votos\n",
        "Design 3 - 1751 votos\n",
        "Design 4 - 210 votos\n",
        "Design 5 - 1811 votos\n",
        "'''\n",
        "```\n",
        "Adapte os dados fornecidos a você para uma estrutura de dicionário e a partir dele, informe o design vencedor e a porcentagem de votos recebidos.\n"
      ],
      "metadata": {
        "id": "nrEwf_1ZMgeF"
      }
    },
    {
      "cell_type": "code",
      "source": [
        "dicionario = {'Design 1' : 1334, 'Design 2' : 982,'Design 3' : 1751,\n",
        "              'Design 4' : 210,'Design 5' : 1811 }\n",
        "mariorVoto = 0\n",
        "for chave, valor in dicionario.items():\n",
        "  if valor > mariorVoto:\n",
        "    mariorVoto = valor\n",
        "    designVencedor = chave\n",
        "\n",
        "print(f'O design vencedor é: {designVencedor}')\n",
        "print(f'A porcentagem de votos recebidos é: {mariorVoto / sum(dicionario.values()) * 100}')"
      ],
      "metadata": {
        "id": "MRPcGR-_MgeF",
        "colab": {
          "base_uri": "https://localhost:8080/"
        },
        "outputId": "d40e7ed6-7203-4b95-e6fa-c9a7a96267d4"
      },
      "execution_count": 37,
      "outputs": [
        {
          "output_type": "stream",
          "name": "stdout",
          "text": [
            "O design vencedor é: Design 5\n",
            "A porcentagem de votos recebidos é: 29.747043363994745\n"
          ]
        }
      ]
    },
    {
      "cell_type": "markdown",
      "source": [
        "#### Questão 13\n",
        "Os funcionários de um setor da empresa que você trabalha vão receber um abono correspondente a 10% do seu salário devido ao ótimo desempenho do time. O setor financeiro solicitou sua ajuda para a verificação das consequências financeiras que esse abono irá gerar nos recursos. Assim, foi encaminhada para você uma lista com os salários que receberão o abono: `[1172, 1644, 2617, 5130, 5532, 6341, 6650, 7238, 7685, 7782, 7903]`. O abono de cada funcionário não pode ser inferior a 200. Em código, transforme cada um dos salários em chaves de um dicionário e o abono de cada salário no elemento. Depois, informe o total de gastos com o abono, quantos funcionários receberam o abono mínimo e qual o maior valor de abono fornecido.\n"
      ],
      "metadata": {
        "id": "HRTFFzKIMgeF"
      }
    },
    {
      "cell_type": "code",
      "source": [
        "salarios = [1172, 1644, 2617, 5130, 5532, 6341, 6650, 7238, 7685, 7782, 7903]\n",
        "dicionarioSalarial = {}\n",
        "\n",
        "totalGastoAbono = 0\n",
        "funcAbonoMin = 0\n",
        "maiorAbono = 0\n",
        "\n",
        "for i in range(len(salarios)):\n",
        "  if salarios[i] * 0.1 < 200:\n",
        "    dicionarioSalarial[salarios[i]] = 200\n",
        "  else:\n",
        "    dicionarioSalarial[salarios[i]] = salarios[i] * 0.1\n",
        "\n",
        "for chave, valor in dicionarioSalarial.items():\n",
        "  totalGastoAbono += valor\n",
        "  if valor == 200:\n",
        "    funcAbonoMin += 1\n",
        "\n",
        "  if valor > maiorAbono:\n",
        "    maiorAbono = valor\n",
        "\n",
        "print('\\n################# RESUMO DOS DADOS #################')\n",
        "print(f'O total de gastos com o abono é: {totalGastoAbono}')\n",
        "print(f'A quantidade de funcionários que receberam o abono mínimo é: {funcAbonoMin}')\n",
        "print(f'O maior valor de abono fornecido é: {maiorAbono:.2f}')"
      ],
      "metadata": {
        "id": "QsDSCua42bLB",
        "colab": {
          "base_uri": "https://localhost:8080/"
        },
        "outputId": "c86ed7aa-dbfc-4298-a492-21bd7f226102"
      },
      "execution_count": 42,
      "outputs": [
        {
          "output_type": "stream",
          "name": "stdout",
          "text": [
            "\n",
            "################# RESUMO DOS DADOS #################\n",
            "O total de gastos com o abono é: 6087.8\n",
            "A quantidade de funcionários que receberam o abono mínimo é: 2\n",
            "O maior valor de abono fornecido é: 790.30\n"
          ]
        }
      ]
    },
    {
      "cell_type": "markdown",
      "source": [
        "#### Questão 14\n",
        "Uma equipe de cientistas de dados está estudando a diversidade biológica em uma floresta. A equipe fez a coleta de informações sobre o número de espécies de plantas e animais em cada área da floresta e armazenaram essas informações em um dicionário. Nele, a chave descreve a área dos dados e os valores nas listas correspondem às espécies de plantas e animais nas áreas, respectivamente.\n",
        "```\n",
        "{'Área Norte': [2819, 7236],\n",
        " 'Área Leste': [1440, 9492],\n",
        " 'Área Sul': [5969, 7496],\n",
        " 'Área Oeste': [14446, 49688],\n",
        " 'Área Centro': [22558, 45148]}\n",
        "```\n",
        "Escreva um código para calcular a média de espécies por área e identificar a área com a maior diversidade biológica. Dica: use as funções built-in [`sum()`](https://docs.python.org/3/library/functions.html#sum) e [`len()`](https://docs.python.org/3/library/functions.html#len).\n"
      ],
      "metadata": {
        "id": "6dEXZEwjMlWy"
      }
    },
    {
      "cell_type": "code",
      "source": [
        "# Dados das áreas e número de espécies por área\n",
        "areas = {\n",
        "    'Área Norte': [2819, 7236],\n",
        "    'Área Leste': [1440, 9492],\n",
        "    'Área Sul': [5969, 7496],\n",
        "    'Área Oeste': [14446, 49688],\n",
        "    'Área Centro': [22558, 45148]\n",
        "}\n",
        "\n",
        "# Cálculo da média de espécies por área\n",
        "medias = {}\n",
        "for area, especies in areas.items():\n",
        "    medias[area] = sum(especies) / len(especies)\n",
        "\n",
        "# Identificação da área com maior diversidade biológica\n",
        "area_maior_diversidade = max(medias, key=medias.get)\n",
        "\n",
        "# Exibindo resultados\n",
        "print(\"Médias de espécies por área:\")\n",
        "for area, media in medias.items():\n",
        "    print(f\"{area}: {media:.2f}\")\n",
        "\n",
        "print(f\"\\nÁrea com maior diversidade biológica: {area_maior_diversidade}\")\n"
      ],
      "metadata": {
        "id": "eQnOUDfYMlWy",
        "colab": {
          "base_uri": "https://localhost:8080/"
        },
        "outputId": "61971966-42d5-4173-874e-d5ad3bc0394f"
      },
      "execution_count": 43,
      "outputs": [
        {
          "output_type": "stream",
          "name": "stdout",
          "text": [
            "Médias de espécies por área:\n",
            "Área Norte: 5027.50\n",
            "Área Leste: 5466.00\n",
            "Área Sul: 6732.50\n",
            "Área Oeste: 32067.00\n",
            "Área Centro: 33853.00\n",
            "\n",
            "Área com maior diversidade biológica: Área Centro\n"
          ]
        }
      ]
    },
    {
      "cell_type": "markdown",
      "source": [
        "#### Questão 15\n",
        "O setor de RH da sua empresa te pediu uma ajuda para analisar as idades dos funcionários de 4 setores da empresa. Para isso, ele te forneceu os seguintes dados:\n",
        "```\n",
        "{'Setor A': [22, 26, 30, 30, 35, 38, 40, 56, 57, 65],\n",
        " 'Setor B': [22, 24, 26, 33, 41, 49, 50, 54, 60, 64],\n",
        " 'Setor C': [23, 26, 26, 29, 34, 35, 36, 41, 52, 56],\n",
        " 'Setor D': [19, 20, 25, 27, 34, 39, 42, 44, 50, 65]}\n",
        "```\n",
        "Sabendo que cada setor tem 10 funcionários, construa um código que calcule a média de idade de cada setor, a idade média geral entre todos os setores e quantas pessoas estão acima da idade média geral.\n"
      ],
      "metadata": {
        "id": "r0RW2Sy_MlWy"
      }
    },
    {
      "cell_type": "code",
      "source": [
        "# Dados da idade dos funcionários\n",
        "funcionarios = {'Setor A': [22, 26, 30, 30, 35, 38, 40, 56, 57, 65],\n",
        " 'Setor B': [22, 24, 26, 33, 41, 49, 50, 54, 60, 64],\n",
        " 'Setor C': [23, 26, 26, 29, 34, 35, 36, 41, 52, 56],\n",
        " 'Setor D': [19, 20, 25, 27, 34, 39, 42, 44, 50, 65]\n",
        "}\n",
        "\n",
        "# Calculando a media das idades\n",
        "mediaSetores = {}\n",
        "for setor, idades in funcionarios.items():\n",
        "  mediaSetores[setor] = sum(idades) / len(idades)\n",
        "\n",
        "\n",
        "# Calculando a media Geral\n",
        "mediaGeral = 0\n",
        "\n",
        "for setor, media in mediaSetores.items():\n",
        "  mediaGeral += media\n",
        "\n",
        "mediaGeral /= len(mediaSetores)\n",
        "\n",
        "# Calculando pessoas acima da média\n",
        "pessoasAcimaMedia = 0\n",
        "for setor, idades in funcionarios.items():\n",
        "  for idade in idades:\n",
        "    if idade > mediaGeral:\n",
        "      pessoasAcimaMedia += 1\n",
        "\n",
        "# Exibindo resultados\n",
        "\n",
        "print('\\n################# RESUMO DOS DADOS #################')\n",
        "for setor, media in mediaSetores.items():\n",
        "  print(f'A média de idade do setor {setor} é: {media}')\n",
        "\n",
        "print('\\n')\n",
        "print(f'A média geral entre os setores é: {mediaGeral}')\n",
        "print(f'A quantidade de pessoas acima da média geral é: {pessoasAcimaMedia}')"
      ],
      "metadata": {
        "id": "wCiwyKP3MmTz",
        "colab": {
          "base_uri": "https://localhost:8080/"
        },
        "outputId": "20146760-bd3a-4073-a583-386268c787e5"
      },
      "execution_count": 53,
      "outputs": [
        {
          "output_type": "stream",
          "name": "stdout",
          "text": [
            "\n",
            "################# RESUMO DOS DADOS #################\n",
            "A média de idade do setor Setor A é: 39.9\n",
            "A média de idade do setor Setor B é: 42.3\n",
            "A média de idade do setor Setor C é: 35.8\n",
            "A média de idade do setor Setor D é: 36.5\n",
            "\n",
            "\n",
            "A média geral entre os setores é: 38.625\n",
            "A quantidade de pessoas acima da média geral é: 18\n"
          ]
        }
      ]
    }
  ]
}